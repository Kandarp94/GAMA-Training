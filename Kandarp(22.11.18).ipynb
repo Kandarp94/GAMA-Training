{
 "cells": [
  {
   "cell_type": "code",
   "execution_count": 18,
   "metadata": {},
   "outputs": [
    {
     "name": "stdout",
     "output_type": "stream",
     "text": [
      "The one dimensional array is: [1 2 3 4 5 6 7]\n"
     ]
    }
   ],
   "source": [
    "#Question 1\n",
    "#Write a Python program to convert a list of numeric value into a one-dimensional NumPy array.\n",
    "\n",
    "import numpy as np\n",
    "list=[1,2,3,4,5,6,7]\n",
    "a=np.array(list)\n",
    "print(\"The one dimensional array is:\",a)"
   ]
  },
  {
   "cell_type": "code",
   "execution_count": 20,
   "metadata": {
    "scrolled": true
   },
   "outputs": [
    {
     "name": "stdout",
     "output_type": "stream",
     "text": [
      "The 3x3 matrix with values ranging from 2 to 10 is:\n",
      " [[ 2  3  4]\n",
      " [ 5  6  7]\n",
      " [ 8  9 10]]\n"
     ]
    }
   ],
   "source": [
    "#Question 2\n",
    "#Create a 3x3 matrix with values ranging from 2 to 10.\n",
    "\n",
    "a=np.arange(2,11).reshape(3,3)\n",
    "print(\"The 3x3 matrix with values ranging from 2 to 10 is:\\n\",a)"
   ]
  },
  {
   "cell_type": "code",
   "execution_count": 22,
   "metadata": {},
   "outputs": [
    {
     "name": "stdout",
     "output_type": "stream",
     "text": [
      "The null vector of size is: [0 0 0 0 0 0 0 0 0 0]\n",
      "The array after updating the 6th value is: [ 0  0  0  0  0  0 11  0  0  0]\n"
     ]
    }
   ],
   "source": [
    "#Question 3\n",
    "#Write a Python program to create a null vector of size 10 and update sixth value to 11.\n",
    "\n",
    "a=np.zeros(10,dtype=int)\n",
    "print(\"The null vector of size is:\",a)\n",
    "a[6]=11\n",
    "print(\"The array after updating the 6th value is:\",a)"
   ]
  },
  {
   "cell_type": "code",
   "execution_count": 7,
   "metadata": {},
   "outputs": [
    {
     "name": "stdout",
     "output_type": "stream",
     "text": [
      "[12 13 14 15 16 17 18 19 20 21 22 23 24 25 26 27 28 29 30 31 32 33 34 35 36\n",
      " 37 38]\n"
     ]
    }
   ],
   "source": [
    "#Question 4\n",
    "#Write a Python program to create a array with values ranging from 12 to 38.\n",
    "\n",
    "a=np.arange(12,39)\n",
    "print(\"The array with values ranging from 12 to 38 is: \",a)"
   ]
  },
  {
   "cell_type": "code",
   "execution_count": 8,
   "metadata": {},
   "outputs": [
    {
     "name": "stdout",
     "output_type": "stream",
     "text": [
      "[38 37 36 35 34 33 32 31 30 29 28 27 26 25 24 23 22 21 20 19 18 17 16 15 14\n",
      " 13 12]\n"
     ]
    }
   ],
   "source": [
    "#Question 5\n",
    "#Write a Python program to reverse an array (first element becomes last).\n",
    "\n",
    "b1=a[-1::-1]\n",
    "print(\"The array after reversing the value is: \",b1)"
   ]
  },
  {
   "cell_type": "code",
   "execution_count": 29,
   "metadata": {},
   "outputs": [
    {
     "name": "stdout",
     "output_type": "stream",
     "text": [
      "[0 1 2 3 4 5 6 7]\n",
      "[ 0.  1.  2.  3.  4.  5.  6.  7.]\n"
     ]
    }
   ],
   "source": [
    "#Question 6\n",
    "#Write a Python program to an int array converted to a float type.\n",
    "\n",
    "a=np.arange(8)\n",
    "print(\"The array with int value is:\",a)\n",
    "b1=a.astype(float)\n",
    "print(\"The array with float value is:\",b1)"
   ]
  },
  {
   "cell_type": "code",
   "execution_count": 16,
   "metadata": {
    "scrolled": true
   },
   "outputs": [
    {
     "name": "stdout",
     "output_type": "stream",
     "text": [
      "[[ 1.  1.  1.  1.  1.]\n",
      " [ 1.  0.  0.  0.  1.]\n",
      " [ 1.  0.  0.  0.  1.]\n",
      " [ 1.  0.  0.  0.  1.]\n",
      " [ 1.  1.  1.  1.  1.]]\n"
     ]
    }
   ],
   "source": [
    "#Question 7\n",
    "#Write a Python program to create a 2d array (5x5) with 1 on the border and 0 inside.\n",
    "\n",
    "a=np.ones(25).reshape(5,5)\n",
    "b=a[1:4,1:4]=0\n",
    "print(a)\n",
    "#print(b)"
   ]
  },
  {
   "cell_type": "code",
   "execution_count": 25,
   "metadata": {},
   "outputs": [
    {
     "name": "stdout",
     "output_type": "stream",
     "text": [
      "the array is: [0 1 2 3 4 5 6 7]\n",
      "The size of array is:  8\n",
      "The size of elements in bytes is:  4\n",
      "The total bytes consumed is:  32\n"
     ]
    }
   ],
   "source": [
    "#Question 8\n",
    "#Write a Python program to find the number of elements of an array, length of one array element in bytes and total bytes consumed by the elements.\n",
    "\n",
    "a=np.arange(8)\n",
    "print(\"the array is:\",a)\n",
    "print(\"The size of array is: \",a.size)\n",
    "print(\"The size of elements in bytes is: \",a.itemsize)\n",
    "print(\"The total bytes consumed is: \",a.nbytes)"
   ]
  },
  {
   "cell_type": "code",
   "execution_count": 85,
   "metadata": {},
   "outputs": [
    {
     "name": "stdout",
     "output_type": "stream",
     "text": [
      "The cube of elemnts of array is:  [ 1  8 27 64]\n"
     ]
    }
   ],
   "source": [
    "#Question 9\n",
    "#Write a Python program to create a function cube which cubes all the elements of an array.\n",
    "\n",
    "#b=np.empty(4,dtype=int)\n",
    "#b=np.array([])\n",
    "b=[]\n",
    "def cube(a):\n",
    "    for i in range(0,len(a)):\n",
    "        b.append(a[i]**3)\n",
    "        #print(\"hii\")\n",
    "    return np.array(b)\n",
    "\n",
    "a=np.array([1,2,3,4])\n",
    "print(\"The cube of elemnts of array is: \",cube(a))"
   ]
  },
  {
   "cell_type": "code",
   "execution_count": 47,
   "metadata": {},
   "outputs": [
    {
     "name": "stdout",
     "output_type": "stream",
     "text": [
      "The array is:\n",
      " [[2 3 4 5]\n",
      " [6 7 8 9]]\n",
      "The array is:\n",
      " [[10]\n",
      " [11]]\n",
      "The resulting array is:\n",
      " [[ 2  3  4  5  6]\n",
      " [ 7  8  9 10 11]]\n"
     ]
    }
   ],
   "source": [
    "#Question 10\n",
    "#Write a Python program to how to add an extra column to an numpy array.\n",
    "\n",
    "a=np.arange(2,10).reshape(2,4)\n",
    "print(\"The array is:\\n\",a)\n",
    "b=np.arange(10,12).reshape(2,1)\n",
    "print(\"The array is:\\n\",b)\n",
    "c=np.append(a,b)\n",
    "print(\"The resulting array is:\\n\",c.reshape(2,5))"
   ]
  },
  {
   "cell_type": "code",
   "execution_count": 51,
   "metadata": {},
   "outputs": [
    {
     "name": "stdout",
     "output_type": "stream",
     "text": [
      "[1 2 3 0 5 0]\n"
     ]
    }
   ],
   "source": [
    "#Question 11\n",
    "#Write a Python program to remove the negative values in a numpy array with 0.\n",
    "\n",
    "a=np.array([1,2,3,-4,5,-6])\n",
    "for x in range(0,len(a)):\n",
    "    if a[x]<0:\n",
    "        a[x]=0\n",
    "print(a)"
   ]
  },
  {
   "cell_type": "code",
   "execution_count": 58,
   "metadata": {},
   "outputs": [
    {
     "name": "stdout",
     "output_type": "stream",
     "text": [
      "[[1 2 3 4]\n",
      " [1 2 3 4]\n",
      " [1 2 3 4]\n",
      " [1 2 3 4]]\n"
     ]
    }
   ],
   "source": [
    "#Question 12\n",
    "# Extend the array by repeating the current elements, 3 times.\n",
    "\n",
    "b=[]\n",
    "a=np.array([1,2,3,4])\n",
    "for x in range (4):\n",
    "      b.append(a)\n",
    "print(\"The array after extending it by 3 times:\",np.array(b))\n"
   ]
  },
  {
   "cell_type": "code",
   "execution_count": 59,
   "metadata": {},
   "outputs": [
    {
     "name": "stdout",
     "output_type": "stream",
     "text": [
      "[False  True  True]\n"
     ]
    }
   ],
   "source": [
    "#Question 14\n",
    "#Write a Python program compare two arrays using numpy.\n",
    "\n",
    "a=np.array([1,2,6])\n",
    "b=np.array([1,1,4])\n",
    "\n",
    "c=np.greater(a,b)\n",
    "print(\"The output after comparing two arrays is:\",c)"
   ]
  },
  {
   "cell_type": "code",
   "execution_count": 10,
   "metadata": {},
   "outputs": [
    {
     "name": "stdout",
     "output_type": "stream",
     "text": [
      "The array with random elements is:\n",
      "  [[ 0.56678856  0.78488877  0.98046941  0.35414078  0.52073748]\n",
      " [ 0.86375051  0.68048408  0.95825721  0.44201966  0.14091402]\n",
      " [ 0.32599704  0.45393163  0.55483732  0.92800111  0.72984893]]\n"
     ]
    }
   ],
   "source": [
    "#Question 15\n",
    "#Create a 3x5 array with random elements. Reshape this into 5x3.  \n",
    "\n",
    "#import numpy as np\n",
    "a=np.random.rand(15).reshape(3,5)\n",
    "print(\"The array with random elements is:\\n \",a)"
   ]
  },
  {
   "cell_type": "code",
   "execution_count": 86,
   "metadata": {},
   "outputs": [
    {
     "name": "stdout",
     "output_type": "stream",
     "text": [
      "(6, 6, 6)\n",
      "[[[ 1.  0.  0.  0.  0.  0.]\n",
      "  [ 0.  1.  0.  0.  0.  0.]\n",
      "  [ 0.  0.  1.  0.  0.  0.]\n",
      "  [ 0.  0.  0.  1.  0.  0.]\n",
      "  [ 0.  0.  0.  0.  1.  0.]\n",
      "  [ 0.  0.  0.  0.  0.  1.]]\n",
      "\n",
      " [[ 1.  0.  0.  0.  0.  0.]\n",
      "  [ 0.  1.  0.  0.  0.  0.]\n",
      "  [ 0.  0.  1.  0.  0.  0.]\n",
      "  [ 0.  0.  0.  1.  0.  0.]\n",
      "  [ 0.  0.  0.  0.  1.  0.]\n",
      "  [ 0.  0.  0.  0.  0.  1.]]\n",
      "\n",
      " [[ 1.  0.  0.  0.  0.  0.]\n",
      "  [ 0.  1.  0.  0.  0.  0.]\n",
      "  [ 0.  0.  1.  0.  0.  0.]\n",
      "  [ 0.  0.  0.  1.  0.  0.]\n",
      "  [ 0.  0.  0.  0.  1.  0.]\n",
      "  [ 0.  0.  0.  0.  0.  1.]]\n",
      "\n",
      " [[ 1.  0.  0.  0.  0.  0.]\n",
      "  [ 0.  1.  0.  0.  0.  0.]\n",
      "  [ 0.  0.  1.  0.  0.  0.]\n",
      "  [ 0.  0.  0.  1.  0.  0.]\n",
      "  [ 0.  0.  0.  0.  1.  0.]\n",
      "  [ 0.  0.  0.  0.  0.  1.]]\n",
      "\n",
      " [[ 1.  0.  0.  0.  0.  0.]\n",
      "  [ 0.  1.  0.  0.  0.  0.]\n",
      "  [ 0.  0.  1.  0.  0.  0.]\n",
      "  [ 0.  0.  0.  1.  0.  0.]\n",
      "  [ 0.  0.  0.  0.  1.  0.]\n",
      "  [ 0.  0.  0.  0.  0.  1.]]\n",
      "\n",
      " [[ 1.  0.  0.  0.  0.  0.]\n",
      "  [ 0.  1.  0.  0.  0.  0.]\n",
      "  [ 0.  0.  1.  0.  0.  0.]\n",
      "  [ 0.  0.  0.  1.  0.  0.]\n",
      "  [ 0.  0.  0.  0.  1.  0.]\n",
      "  [ 0.  0.  0.  0.  0.  1.]]]\n"
     ]
    }
   ],
   "source": [
    "a=np.eye(6)\n",
    "b=np.array([a]*6)\n",
    "print(b.shape)\n",
    "print(b)"
   ]
  },
  {
   "cell_type": "code",
   "execution_count": 51,
   "metadata": {},
   "outputs": [
    {
     "name": "stdout",
     "output_type": "stream",
     "text": [
      "The mean  for Maths is : 24 \n",
      "The mean  for Physics is : 27.25 \n",
      "The mean  for Chemistry is : 29.5 \n",
      "The mean  for Sciology is : 25.25 \n",
      "\n",
      "\n",
      "The median  for Maths is: 21.5\n",
      "The median  for Physics is: 26\n",
      "The median  for Chemistry is: 32.5\n",
      "The median  for Sciology is: 25.5\n",
      "\n",
      "\n",
      "The standard deviation  for Maths is: 14.089\n",
      "The standard deviation  for Physics is: 15.8331\n",
      "The standard deviation  for Chemistry is: 17.6989\n",
      "The standard deviation  for Sciology is: 18.8597\n",
      "\n",
      "\n",
      "The mode for subjects is: [[8 7 3 2]]\n"
     ]
    }
   ],
   "source": [
    "#Question 17.A.1)\n",
    "#Find the mean, median, mode and standard deviation for marks of each subject\n",
    "\n",
    "from scipy import stats\n",
    "marks=np.array([[15,20,25,12],[45,50,50,48],[8,7,3,2],[28,32,40,39]])\n",
    "\n",
    "mean=np.mean(marks,axis=0)\n",
    "list1=[\"Maths\",\"Physics\",\"Chemistry\",\"Sciology\",\"English\"]\n",
    "for i in range (4):\n",
    "    print(\"The mean  for %s is : %g \"%(list1[i],mean[i]))\n",
    "\n",
    "print(\"\\n\")\n",
    "\n",
    "median=np.median(marks,axis=0)\n",
    "for i in range (4):\n",
    "    print(\"The median  for %s is: %g\"%(list1[i],median[i]))\n",
    "\n",
    "print(\"\\n\")\n",
    "\n",
    "std=np.std(marks,axis=0)\n",
    "for i in range (4):\n",
    "    print(\"The standard deviation  for %s is: %g\"%(list1[i],std[i]))\n",
    "\n",
    "print(\"\\n\")\n",
    "\n",
    "m=stats.mode(marks,axis=0)\n",
    "print(\"The mode for subjects is:\",m[0])\n"
   ]
  },
  {
   "cell_type": "code",
   "execution_count": 35,
   "metadata": {
    "scrolled": true
   },
   "outputs": [
    {
     "name": "stdout",
     "output_type": "stream",
     "text": [
      "The minimum  for Maths is : 8 \n",
      "The minimum  for Physics is : 7 \n",
      "The minimum  for Chemistry is : 3 \n",
      "The minimum  for Sciology is : 2 \n",
      "\n",
      "\n",
      "The maximum  for Maths is : 45 \n",
      "The maximum  for Physics is : 50 \n",
      "The maximum  for Chemistry is : 50 \n",
      "The maximum  for Sciology is : 48 \n",
      "\n",
      "\n"
     ]
    }
   ],
   "source": [
    "#Question 17.A.2)\n",
    "#What is the minimum and maximum of each subject?\n",
    "\n",
    "min=np.min(marks,axis=0)\n",
    "for i in range (4):\n",
    "    print(\"The minimum  for %s is : %g \"%(list1[i],min[i]))\n",
    "print(\"\\n\") \n",
    "\n",
    "max=np.max(marks,axis=0)\n",
    "for i in range (4):\n",
    "    print(\"The maximum  for %s is : %g \"%(list1[i],max[i]))\n",
    "print(\"\\n\") "
   ]
  },
  {
   "cell_type": "code",
   "execution_count": 82,
   "metadata": {},
   "outputs": [
    {
     "name": "stdout",
     "output_type": "stream",
     "text": [
      "Rajesh is good in Chemistry and bad in Sciology\n",
      "Rima is good in Physics and bad in Sciology\n",
      "Ram is good in Maths and bad in Sciology\n",
      "Joseph is good in Chemistry and bad in Maths\n"
     ]
    }
   ],
   "source": [
    "#Question 17.A.3)\n",
    "#Print the subject in  each student good at and poor at ?\n",
    "\n",
    "print(\"Rajesh is good in %s and bad in %s\"%(list1[marks[0].argmax()],list1[marks[0].argmin()]))\n",
    "print(\"Rima is good in %s and bad in %s\"%(list1[marks[1].argmax()],list1[marks[2].argmin()]))\n",
    "print(\"Ram is good in %s and bad in %s\"%(list1[marks[2].argmax()],list1[marks[2].argmin()]))\n",
    "print(\"Joseph is good in %s and bad in %s\"%(list1[marks[3].argmax()],list1[marks[3].argmin()]))\n"
   ]
  },
  {
   "cell_type": "code",
   "execution_count": 40,
   "metadata": {},
   "outputs": [
    {
     "name": "stdout",
     "output_type": "stream",
     "text": [
      "The mean for overall class is: 26.5\n",
      "The median for overall class is: 26.5\n",
      "The standard deviation for overall class is: 16.8485904455\n",
      "The mode for overall class is: [[8 7 3 2]]\n"
     ]
    }
   ],
   "source": [
    "#Question 17.A.4)\n",
    "#What is the overall class mean, mode, median and standard deviation\n",
    "\n",
    "print(\"The mean for overall class is:\",np.mean(marks))\n",
    "print(\"The median for overall class is:\",np.median(marks))\n",
    "print(\"The standard deviation for overall class is:\",np.std(marks))\n",
    "m=stats.mode(marks,axis=0)\n",
    "print(\"The mode for overall class is:\",m[0])"
   ]
  },
  {
   "cell_type": "code",
   "execution_count": 55,
   "metadata": {},
   "outputs": [
    {
     "name": "stdout",
     "output_type": "stream",
     "text": [
      "The marks after adding english marks:\n",
      " [[15 20 25 12 40]\n",
      " [45 50 50 48 49]\n",
      " [ 8  7  3  2 10]\n",
      " [28 32 40 39 35]]\n",
      "\n",
      "\n",
      "The mean for English is:  [ 24.    27.25  29.5   25.25  33.5 ]\n",
      "The median for English is:  [ 21.5  26.   32.5  25.5  37.5]\n",
      "The Standard Deviation for English is:  [ 14.0890028   15.83311403  17.69887002  18.85967921  14.46547614]\n",
      "The mode for English is: [[8 7 3 2]]\n"
     ]
    }
   ],
   "source": [
    "#Question 17.B)\n",
    "#Teacher just announced the marks of English. They are 40, 49, 10 and 35 for eah student.\n",
    "#Re-calculate all subparts of A.\n",
    "\n",
    "eng=np.array([40,49,10,35]).reshape(4,1)\n",
    "marks1=np.append(marks,eng,axis=1)\n",
    "print(\"The marks after adding english marks:\\n\",marks1)\n",
    "\n",
    "print(\"\\n\")\n",
    "print(\"The mean for English is: \",np.mean(marks1,axis=0))\n",
    "print(\"The median for English is: \",np.median(marks1,axis=0))\n",
    "print(\"The Standard Deviation for English is: \",np.std(marks1,axis=0))\n",
    "m=stats.mode(marks,axis=0)\n",
    "print(\"The mode for English is:\",m[0])\n"
   ]
  },
  {
   "cell_type": "code",
   "execution_count": 61,
   "metadata": {},
   "outputs": [
    {
     "name": "stdout",
     "output_type": "stream",
     "text": [
      "The array after adding the new student marks:\n",
      " [[15 20 25 12 40]\n",
      " [45 50 50 48 49]\n",
      " [ 8  7  3  2 10]\n",
      " [28 32 40 39 35]\n",
      " [ 0  0  0  0  0]]\n",
      "The mean  for Maths is : 19.2 \n",
      "The mean  for Physics is : 21.8 \n",
      "The mean  for Chemistry is : 23.6 \n",
      "The mean  for Sciology is : 20.2 \n",
      "The mean  for English is : 26.8 \n",
      "\n",
      "\n",
      "The median  for Maths is: 15\n",
      "The median  for Physics is: 20\n",
      "The median  for Chemistry is: 25\n",
      "The median  for Sciology is: 12\n",
      "The median  for English is: 35\n",
      "\n",
      "\n",
      "The standard deviation  for Maths is: 15.8417\n",
      "The standard deviation  for Physics is: 17.8706\n",
      "The standard deviation  for Chemistry is: 19.7444\n",
      "The standard deviation  for Sciology is: 19.6611\n",
      "The standard deviation  for English is: 18.6269\n",
      "\n",
      "\n",
      "The mode for subjects is: [[0 0 0 0 0]]\n",
      "The minimum  for Maths is : 0 \n",
      "The minimum  for Physics is : 0 \n",
      "The minimum  for Chemistry is : 0 \n",
      "The minimum  for Sciology is : 0 \n",
      "The minimum  for English is : 0 \n",
      "\n",
      "\n",
      "The maximum  for Maths is : 45 \n",
      "The maximum  for Physics is : 50 \n",
      "The maximum  for Chemistry is : 50 \n",
      "The maximum  for Sciology is : 48 \n",
      "The maximum  for English is : 49 \n",
      "\n",
      "\n"
     ]
    }
   ],
   "source": [
    "#Question 17.c)\n",
    "#A new student joined the class. For the time being, the scores are going to be zero for each student. \n",
    "#Re-calculate A again with the new student.\n",
    "\n",
    "new=np.array([0,0,0,0,0]).reshape(1,5)\n",
    "marks2=np.append(marks1,new,axis=0)\n",
    "print(\"The array after adding the new student marks:\\n\",marks2)\n",
    "\n",
    "mean=np.mean(marks2,axis=0)\n",
    "list1=[\"Maths\",\"Physics\",\"Chemistry\",\"Sciology\",\"English\"]\n",
    "for i in range (5):\n",
    "    print(\"The mean  for %s is : %g \"%(list1[i],mean[i]))\n",
    "\n",
    "print(\"\\n\")\n",
    "\n",
    "median=np.median(marks2,axis=0)\n",
    "for i in range (5):\n",
    "    print(\"The median  for %s is: %g\"%(list1[i],median[i]))\n",
    "\n",
    "print(\"\\n\")\n",
    "\n",
    "std=np.std(marks2,axis=0)\n",
    "for i in range (5):\n",
    "    print(\"The standard deviation  for %s is: %g\"%(list1[i],std[i]))\n",
    "\n",
    "print(\"\\n\")\n",
    "\n",
    "m=stats.mode(marks2,axis=0)\n",
    "print(\"The mode for subjects is:\",m[0])\n",
    "\n",
    "min=np.min(marks2,axis=0)\n",
    "for i in range (5):\n",
    "    print(\"The minimum  for %s is : %g \"%(list1[i],min[i]))\n",
    "print(\"\\n\") \n",
    "\n",
    "max=np.max(marks2,axis=0)\n",
    "for i in range (5):\n",
    "    print(\"The maximum  for %s is : %g \"%(list1[i],max[i]))\n",
    "print(\"\\n\") \n",
    "\n"
   ]
  },
  {
   "cell_type": "code",
   "execution_count": 70,
   "metadata": {},
   "outputs": [
    {
     "name": "stdout",
     "output_type": "stream",
     "text": [
      "The Score card for Rajesh is: \n",
      "Maths 15\n",
      "Physics 20\n",
      "Chemistry 25\n",
      "Sciology 12\n",
      "English 40\n",
      "\n",
      "\n",
      "The Score card for Rima is: \n",
      "Maths 45\n",
      "Physics 50\n",
      "Chemistry 50\n",
      "Sciology 48\n",
      "English 49\n",
      "\n",
      "\n",
      "The Score card for Ram is: \n",
      "Maths 8\n",
      "Physics 7\n",
      "Chemistry 3\n",
      "Sciology 2\n",
      "English 10\n",
      "\n",
      "\n",
      "The Score card for Joseph is: \n",
      "Maths 28\n",
      "Physics 32\n",
      "Chemistry 40\n",
      "Sciology 39\n",
      "English 35\n"
     ]
    }
   ],
   "source": [
    "#Question 17.D)\n",
    "#Question Print the current score card for the class\n",
    "\n",
    "print(\"The Score card for Rajesh is: \")\n",
    "for x in range(len(list1)):\n",
    "    print(list1[x], marks2[0][x])\n",
    "    \n",
    "print(\"\\n\")\n",
    "\n",
    "print(\"The Score card for Rima is: \")\n",
    "for x in range(len(list1)):\n",
    "    print(list1[x], marks2[1][x])\n",
    "print(\"\\n\")\n",
    "    \n",
    "print(\"The Score card for Ram is: \")\n",
    "for x in range(len(list1)):\n",
    "    print(list1[x], marks2[2][x])\n",
    "print(\"\\n\")\n",
    "\n",
    "print(\"The Score card for Joseph is: \")\n",
    "for x in range(len(list1)):\n",
    "    print(list1[x], marks2[3][x])"
   ]
  },
  {
   "cell_type": "code",
   "execution_count": null,
   "metadata": {
    "collapsed": true
   },
   "outputs": [],
   "source": []
  }
 ],
 "metadata": {
  "kernelspec": {
   "display_name": "Python 3",
   "language": "python",
   "name": "python3"
  },
  "language_info": {
   "codemirror_mode": {
    "name": "ipython",
    "version": 3
   },
   "file_extension": ".py",
   "mimetype": "text/x-python",
   "name": "python",
   "nbconvert_exporter": "python",
   "pygments_lexer": "ipython3",
   "version": "3.6.2"
  }
 },
 "nbformat": 4,
 "nbformat_minor": 2
}
