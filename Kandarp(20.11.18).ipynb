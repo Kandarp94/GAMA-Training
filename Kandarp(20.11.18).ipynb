{
 "cells": [
  {
   "cell_type": "code",
   "execution_count": 4,
   "metadata": {},
   "outputs": [
    {
     "name": "stdout",
     "output_type": "stream",
     "text": [
      "Enter the number of values: 3\n",
      "Enter the name: Kandarp\n",
      "Enter the roll number:41\n",
      "Enter the name: Ravi\n",
      "Enter the roll number:84\n",
      "Enter the name: Bhodi\n",
      "Enter the roll number:51\n",
      "{41: 'Kandarp', 84: 'Ravi', 51: 'Bhodi'}\n"
     ]
    }
   ],
   "source": [
    "#Question 1\n",
    "#Create a dictionary with roll number and student name\n",
    "\n",
    "dic={}\n",
    "num=int(input(\"Enter the number of values: \"))\n",
    "for i in range(num):\n",
    "    name=input(\"Enter the name: \")\n",
    "    roll_no=int(input(\"Enter the roll number:\"))\n",
    "    dic[roll_no]=name\n",
    "print(dic)"
   ]
  },
  {
   "cell_type": "code",
   "execution_count": 5,
   "metadata": {},
   "outputs": [
    {
     "name": "stdout",
     "output_type": "stream",
     "text": [
      "{'Name': 'Kandarp', 'Age': 23, 'Sex': 'Male'}\n"
     ]
    }
   ],
   "source": [
    "#Question 2\n",
    "#Concatanate two dictionaries\n",
    "\n",
    "dict1 = {'Name': 'Kandarp', 'Age': 23}\n",
    "dict2 = {'Sex': 'Male' }\n",
    "dict1.update(dict2)\n",
    "print(dict1)\n",
    "\n"
   ]
  },
  {
   "cell_type": "code",
   "execution_count": 6,
   "metadata": {},
   "outputs": [
    {
     "name": "stdout",
     "output_type": "stream",
     "text": [
      "Enter the key to be searchedName\n",
      "Kandarp\n"
     ]
    }
   ],
   "source": [
    "#Question 3\n",
    "#Check whether key is present or not\n",
    "\n",
    "key=input(\"Enter the key to be searched\")\n",
    "if key in dict1:\n",
    "    print(dict1[key])\n",
    "else:\n",
    "    print(\"Error\")"
   ]
  },
  {
   "cell_type": "code",
   "execution_count": 8,
   "metadata": {},
   "outputs": [
    {
     "name": "stdout",
     "output_type": "stream",
     "text": [
      "Enter the uper range: 6\n",
      "{0: 0, 1: 1, 2: 4, 3: 9, 4: 16, 5: 25, 6: 36}\n"
     ]
    }
   ],
   "source": [
    "#Question 4\n",
    "#Generate a dictionary that contains number in the form(n,n*n)\n",
    "\n",
    "c={}\n",
    "b=int(input(\"Enter the uper range: \"))\n",
    "for x in range (b+1):\n",
    "    c[x]=x**2\n",
    "print(c)\n"
   ]
  },
  {
   "cell_type": "code",
   "execution_count": 2,
   "metadata": {
    "scrolled": false
   },
   "outputs": [
    {
     "name": "stdout",
     "output_type": "stream",
     "text": [
      "Enter the number of values: 3\n",
      "Enter the subjecteng\n",
      "Enter the marks98\n",
      "Enter the subjectmaths\n",
      "Enter the marks45\n",
      "Enter the subjectphy\n",
      "Enter the marks44\n",
      "The total of value is: 187\n"
     ]
    }
   ],
   "source": [
    "#Question 5\n",
    "#Sum of all items\n",
    "\n",
    "dic={}\n",
    "sm=0\n",
    "num=int(input(\"Enter the number of values: \"))\n",
    "for i in range(num):\n",
    "    ke=input(\"Enter the subject: \")\n",
    "    val=int(input(\"Enter the marks: \"))\n",
    "    #dic[ke]=val\n",
    "    sm+=val\n",
    "print(\"The total of value is:\",sm)"
   ]
  },
  {
   "cell_type": "code",
   "execution_count": 2,
   "metadata": {},
   "outputs": [
    {
     "name": "stdout",
     "output_type": "stream",
     "text": [
      "Enter the number of values: 3\n",
      "Enter the subject: hindi\n",
      "Enter the marks: 34\n",
      "Enter the subject: phy\n",
      "Enter the marks: 34\n",
      "Enter the subject: chem\n",
      "Enter the marks: 45\n",
      "The total of value is: 52020\n"
     ]
    }
   ],
   "source": [
    "#Question 6\n",
    "#Multiply of all items\n",
    "\n",
    "dic={}\n",
    "sm=1\n",
    "num=int(input(\"Enter the number of values: \"))\n",
    "for i in range(num):\n",
    "    ke=input(\"Enter the subject: \")\n",
    "    val=int(input(\"Enter the marks: \"))\n",
    "    #dic[ke]=val\n",
    "    sm*=val\n",
    "print(\"The total of value is:\",sm)"
   ]
  },
  {
   "cell_type": "code",
   "execution_count": 3,
   "metadata": {},
   "outputs": [
    {
     "name": "stdout",
     "output_type": "stream",
     "text": [
      "{'Name': 'Kandarp', 'Age': 23, 'Sex': 'Male'}\n"
     ]
    }
   ],
   "source": [
    "#Question 7\n",
    "#Map two lists into a dictionary\n",
    "\n",
    "dict3={}\n",
    "dict1=[\"Name\",\"Age\",\"Sex\"]\n",
    "dict2=[\"Kandarp\",23,\"Male\"]\n",
    "for x in range (len(dict1)):\n",
    "    dict3[dict1[x]]=dict2[x]\n",
    "print(dict3)"
   ]
  },
  {
   "cell_type": "code",
   "execution_count": 1,
   "metadata": {},
   "outputs": [
    {
     "name": "stdout",
     "output_type": "stream",
     "text": [
      "Enter the String:my name is kandarp is\n",
      "{'my': 1, 'name': 1, 'is': 2, 'kandarp': 1}\n"
     ]
    }
   ],
   "source": [
    "#Question 8\n",
    "#Count frequecy of words\n",
    "\n",
    "s=input(\"Enter the String:\")\n",
    "dic={}\n",
    "spl=s.split()\n",
    "for x in spl:\n",
    "    if x in dic:\n",
    "        dic[x]+=1\n",
    "    else:\n",
    "        dic[x]=1\n",
    "print(dic)"
   ]
  },
  {
   "cell_type": "code",
   "execution_count": 4,
   "metadata": {
    "scrolled": true
   },
   "outputs": [
    {
     "name": "stdout",
     "output_type": "stream",
     "text": [
      "Enter the range:3\n",
      "Enter the string:hello\n",
      "Enter the string:hii\n",
      "Enter the string:bye\n",
      "{'h': 'hii', 'b': 'bye'}\n"
     ]
    }
   ],
   "source": [
    "#Question 9\n",
    "#Create a dictionary with key as first character and value as word starting with same character\n",
    "\n",
    "dic={}\n",
    "s=int(input(\"Enter the range:\"))\n",
    "\n",
    "for x in range (s):\n",
    "    name=input(\"Enter the string:\")\n",
    "    dic[name[0]]=name\n",
    "print(dic)\n",
    "\n"
   ]
  },
  {
   "cell_type": "code",
   "execution_count": null,
   "metadata": {},
   "outputs": [],
   "source": [
    "#Question 10\n",
    "#Create adictionary with name of 10 students\n",
    "\n",
    "dic={}\n",
    "n=int(input(\"Enter number of students:\"))\n",
    "for x in range(n):\n",
    "    name=input(\"Enter the name\")\n",
    "    marks=int(input(\"Enter the marks\"))\n",
    "    dic[name]=marks\n",
    "list=sorted(dic.values())\n",
    "for x in list:\n",
    "    for y in dic:\n",
    "        if(dic[j]==i):\n",
    "            print(j,\":\",dict[j])"
   ]
  }
 ],
 "metadata": {
  "kernelspec": {
   "display_name": "Python 3",
   "language": "python",
   "name": "python3"
  },
  "language_info": {
   "codemirror_mode": {
    "name": "ipython",
    "version": 3
   },
   "file_extension": ".py",
   "mimetype": "text/x-python",
   "name": "python",
   "nbconvert_exporter": "python",
   "pygments_lexer": "ipython3",
   "version": "3.6.2"
  }
 },
 "nbformat": 4,
 "nbformat_minor": 2
}
