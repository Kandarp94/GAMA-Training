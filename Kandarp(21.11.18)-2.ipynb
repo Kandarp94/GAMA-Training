{
 "cells": [
  {
   "cell_type": "code",
   "execution_count": 9,
   "metadata": {},
   "outputs": [
    {
     "name": "stdout",
     "output_type": "stream",
     "text": [
      "Enter the number5\n",
      "Enter the power2\n",
      "25\n"
     ]
    }
   ],
   "source": [
    "class power:\n",
    "    def pow1(self,x,n):\n",
    "        a=x**n\n",
    "        return a\n",
    "\n",
    "n1=int(input(\"Enter the number\"))\n",
    "n2=int(input(\"Enter the power\"))\n",
    "obj1=power()\n",
    "\n",
    "print(obj1.pow1(n1,n2))\n",
    "#bj1.pow(5,2)\n",
    "\n",
    "        "
   ]
  },
  {
   "cell_type": "code",
   "execution_count": 21,
   "metadata": {},
   "outputs": [
    {
     "name": "stdout",
     "output_type": "stream",
     "text": [
      "Enter the stringf gh h\n",
      "['h', 'gh', 'f']\n",
      "h gh f\n"
     ]
    }
   ],
   "source": [
    " class rev:\n",
    "        def reverse(self,stri):\n",
    "            spl=stri.split()\n",
    "           \n",
    "            spl=spl[-1::-1]\n",
    "            print(spl)\n",
    "            output=\" \".join(spl)\n",
    "            return output\n",
    " \n",
    "stri=input(\"Enter the string\")\n",
    "print(rev().reverse(stri))"
   ]
  },
  {
   "cell_type": "code",
   "execution_count": null,
   "metadata": {
    "collapsed": true
   },
   "outputs": [],
   "source": []
  }
 ],
 "metadata": {
  "kernelspec": {
   "display_name": "Python 3",
   "language": "python",
   "name": "python3"
  },
  "language_info": {
   "codemirror_mode": {
    "name": "ipython",
    "version": 3
   },
   "file_extension": ".py",
   "mimetype": "text/x-python",
   "name": "python",
   "nbconvert_exporter": "python",
   "pygments_lexer": "ipython3",
   "version": "3.6.2"
  }
 },
 "nbformat": 4,
 "nbformat_minor": 2
}
