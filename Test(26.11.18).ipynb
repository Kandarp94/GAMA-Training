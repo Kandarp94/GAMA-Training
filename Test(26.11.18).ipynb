{
 "cells": [
  {
   "cell_type": "code",
   "execution_count": 3,
   "metadata": {},
   "outputs": [
    {
     "name": "stdout",
     "output_type": "stream",
     "text": [
      "The array with 50th value with value 50 is:\n",
      " [  0.   0.   0.   0.   0.   0.   0.   0.   0.   0.   0.   0.   0.   0.   0.\n",
      "   0.   0.   0.   0.   0.   0.   0.   0.   0.   0.   0.   0.   0.   0.   0.\n",
      "   0.   0.   0.   0.   0.   0.   0.   0.   0.   0.   0.   0.   0.   0.   0.\n",
      "   0.   0.   0.   0.  50.   0.   0.   0.   0.   0.   0.   0.   0.   0.   0.\n",
      "   0.   0.   0.   0.   0.   0.   0.   0.   0.   0.   0.   0.   0.   0.   0.\n",
      "   0.   0.   0.   0.   0.   0.   0.   0.   0.   0.   0.   0.   0.   0.   0.\n",
      "   0.   0.   0.   0.   0.   0.   0.   0.   0.   0.]\n"
     ]
    }
   ],
   "source": [
    "#Question 1\n",
    "#Create a vector or array of 100 elements. Its 50th value should be    50.0 and other values should be 0.0\n",
    "\n",
    "import numpy as np\n",
    "\n",
    "arr=np.zeros(100)\n",
    "arr[49]=50.0\n",
    "print(\"The array with 50th value with value 50 is:\\n\",arr)"
   ]
  },
  {
   "cell_type": "code",
   "execution_count": 6,
   "metadata": {},
   "outputs": [
    {
     "name": "stdout",
     "output_type": "stream",
     "text": [
      "The array with 50th value with value 10 is:\n",
      " [  0.   0.   0.   0.   0.   0.   0.   0.   0.   0.   0.   0.   0.   0.   0.\n",
      "   0.   0.   0.   0.   0.   0.   0.   0.   0.   0.   0.   0.   0.   0.   0.\n",
      "   0.   0.   0.   0.   0.   0.   0.   0.   0.   0.   0.   0.   0.   0.   0.\n",
      "   0.   0.   0.   0.  10.   0.   0.   0.   0.   0.   0.   0.   0.   0.   0.\n",
      "   0.   0.   0.   0.   0.   0.   0.   0.   0.   0.   0.   0.   0.   0.   0.\n",
      "   0.   0.   0.   0.   0.   0.   0.   0.   0.   0.   0.   0.   0.   0.   0.\n",
      "   0.   0.   0.   0.   0.   0.   0.   0.   0.   0.]\n"
     ]
    }
   ],
   "source": [
    "#Queston 2\n",
    "#Create a vector or array of 100 elements. Its 50th value should be    10.0 and other values should be 1.0\n",
    "\n",
    "arr1=np.zeros(100)\n",
    "arr1[49]=10.0\n",
    "print(\"The array with 50th value with value 10 is:\\n\",arr1)"
   ]
  },
  {
   "cell_type": "code",
   "execution_count": 7,
   "metadata": {},
   "outputs": [
    {
     "name": "stdout",
     "output_type": "stream",
     "text": [
      "The array with value 3 to 30 is: [ 3  4  5  6  7  8  9 10 11 12 13 14 15 16 17 18 19 20 21 22 23 24 25 26 27\n",
      " 28 29 30]\n"
     ]
    }
   ],
   "source": [
    "#Question 3\n",
    "# Create a  vector or array whose values are from 3, 30\n",
    "\n",
    "arr2=np.arange(3,31)\n",
    "print(\"The array with value 3 to 30 is:\",arr2)"
   ]
  },
  {
   "cell_type": "code",
   "execution_count": 9,
   "metadata": {},
   "outputs": [
    {
     "name": "stdout",
     "output_type": "stream",
     "text": [
      "The array after reversing is: [4 3 2 1 0]\n"
     ]
    }
   ],
   "source": [
    "#Question 4\n",
    "# Reverse and print X\n",
    "\n",
    "x=np.arange(5)\n",
    "y=x[-1::-1]\n",
    "print(\"The array after reversing is:\",y)"
   ]
  },
  {
   "cell_type": "code",
   "execution_count": 9,
   "metadata": {},
   "outputs": [
    {
     "name": "stdout",
     "output_type": "stream",
     "text": [
      "The array is :\n",
      " [[ 0  1  2  3  4]\n",
      " [ 5  6  7  8  9]\n",
      " [10 11 12 13 14]\n",
      " [15 16 17 18 19]\n",
      " [20 21 22 23 24]]\n"
     ]
    }
   ],
   "source": [
    "#Question 5\n",
    "#Create a 5x 5 matrix and values should be from 0 to 24\n",
    "\n",
    "arr3=np.arange(0,25).reshape(5,5)\n",
    "print(\"The array is :\\n\",arr3)"
   ]
  },
  {
   "cell_type": "code",
   "execution_count": 4,
   "metadata": {},
   "outputs": [
    {
     "name": "stdout",
     "output_type": "stream",
     "text": [
      "[[1 3 0]\n",
      " [2 1 1]\n",
      " [3 4 0]]\n",
      "[[3 4 6]\n",
      " [2 1 3]\n",
      " [1 2 8]]\n"
     ]
    }
   ],
   "source": [
    "#Question 6\n",
    "\n",
    "a1=np.array([[1,3,0],[2,1,1],[3,4,0]])\n",
    "a2=np.array([[3,4,6],[2,1,3],[1,2,8]])\n",
    "print(\"The array is:\\n\",a1)\n",
    "\n",
    "print(\"The array is:\\n\",a2)"
   ]
  },
  {
   "cell_type": "code",
   "execution_count": 27,
   "metadata": {},
   "outputs": [
    {
     "name": "stdout",
     "output_type": "stream",
     "text": [
      "The min value for a1 is: 0\n",
      "The min value for a2 is: 1\n",
      "The max value for a1 is: 4\n",
      "The max value for a2 is: 8\n"
     ]
    }
   ],
   "source": [
    "#Question 6,a\n",
    "#a) Find min. max of the values for A1 and A2\n",
    "\n",
    "print(\"The min value for a1 is:\",a1.min())\n",
    "print(\"The min value for a2 is:\",a2.min())\n",
    "print(\"The max value for a1 is:\",a1.max())\n",
    "print(\"The max value for a2 is:\",a2.max())"
   ]
  },
  {
   "cell_type": "code",
   "execution_count": 28,
   "metadata": {},
   "outputs": [
    {
     "name": "stdout",
     "output_type": "stream",
     "text": [
      "The mean of a1 is: 1.66666666667\n",
      "The mean of a2 is: 3.33333333333\n"
     ]
    }
   ],
   "source": [
    "#Q.6.b\n",
    "#b) Find the mean value for A1 and A2\n",
    "\n",
    "print(\"The mean of a1 is:\",a1.mean())\n",
    "print(\"The mean of a2 is:\",a2.mean())"
   ]
  },
  {
   "cell_type": "code",
   "execution_count": 13,
   "metadata": {},
   "outputs": [
    {
     "name": "stdout",
     "output_type": "stream",
     "text": [
      "The resultant matrix is:\n",
      "[9, 7, 15]\n",
      "[9, 11, 23]\n",
      "[17, 16, 30]\n"
     ]
    }
   ],
   "source": [
    "#Q.6.d\n",
    "#Multiply A1 and A2\n",
    "\n",
    "res=[[0,0,0],[0,0,0],[0,0,0]]\n",
    "for i in range(len(a1)):\n",
    "    for j in range(len(a2[0])):\n",
    "        for k in range(len(a2)):\n",
    "            res[i][j]+=a1[i][k]*a2[k][j]\n",
    "print(\"The resultant matrix is:\")\n",
    "for x in res:\n",
    "    print(x)\n"
   ]
  },
  {
   "cell_type": "code",
   "execution_count": 34,
   "metadata": {},
   "outputs": [
    {
     "name": "stdout",
     "output_type": "stream",
     "text": [
      "The array after swapping is:\n",
      " [[3 4 0]\n",
      " [2 1 1]\n",
      " [3 4 0]]\n"
     ]
    }
   ],
   "source": [
    "#Q.6.f\n",
    "#Swap first and 3rd rows of A1\n",
    "\n",
    "temp=a1[0]\n",
    "a1[0]=a1[2]\n",
    "a1[2]=temp\n",
    "print(\"The array after swapping is:\\n\",a1)"
   ]
  },
  {
   "cell_type": "code",
   "execution_count": 43,
   "metadata": {},
   "outputs": [
    {
     "name": "stdout",
     "output_type": "stream",
     "text": [
      "The value after adding the last column is:\n",
      " [[3 4 0 1]\n",
      " [2 1 1 1]\n",
      " [3 4 0 1]]\n"
     ]
    }
   ],
   "source": [
    "#Q.6,h\n",
    "#Add a column to A1 with values 1 1 1 \n",
    "\n",
    "arr5=np.array([1,1,1]).reshape(3,1)\n",
    "#a=np.insert(a1,2,1,axis=1)\n",
    "a=np.append(a1,arr5,axis=1)\n",
    "print(\"The value after adding the last column is:\\n\",a)"
   ]
  },
  {
   "cell_type": "code",
   "execution_count": 56,
   "metadata": {},
   "outputs": [
    {
     "name": "stdout",
     "output_type": "stream",
     "text": [
      "The value after adding a row is:\n",
      " [[3 4 0]\n",
      " [2 1 1]\n",
      " [3 4 0]\n",
      " [2 2 2]]\n"
     ]
    }
   ],
   "source": [
    "#Q.6,i\n",
    "#Add a row to A2 with 2 2 2\n",
    "\n",
    "arr6=np.array([2,2,2]).reshape(1,3)\n",
    "#b=a1.shape\n",
    "#print(b)\n",
    "a=np.append(a1,arr6,axis=0)\n",
    "print(\"The value after adding a row is:\\n\",a)"
   ]
  },
  {
   "cell_type": "code",
   "execution_count": 6,
   "metadata": {},
   "outputs": [
    {
     "name": "stdout",
     "output_type": "stream",
     "text": [
      "1.multiplication 2.addition\n",
      "Enter the choice:2\n",
      "the resultant matrix is:\n",
      "[4 7 6]\n",
      "[4 2 4]\n",
      "[4 6 8]\n"
     ]
    }
   ],
   "source": [
    "#Question 7\n",
    "# Write a function for matrix multiplications and additions. Use A1 and A2 to test.[3 marks]\n",
    "\n",
    "def mul(a1,a2):\n",
    "    res=[[0,0,0],[0,0,0],[0,0,0]] \n",
    "    for i in range(len(a1)):\n",
    "        for j in range(len(a2[0])):\n",
    "            for k in range(len(a2)):\n",
    "                res[i][j]+=a1[i][k]*a2[k][j]\n",
    "    print(\"The resultant matrix is:\")\n",
    "    for x in res:\n",
    "        print(x)\n",
    "\n",
    "def add(a1,a2):\n",
    "    res=[[0,0,0],[0,0,0],[0,0,0]] \n",
    "    res=a1+a2\n",
    "    print(\"the resultant matrix is:\")\n",
    "    for x in res:\n",
    "          print(x)\n",
    "    \n",
    "\n",
    "print(\"1.multiplication 2.addition\")\n",
    "ch=int(input(\"Enter the choice:\"))\n",
    "if(ch==1):\n",
    "    mul(a1,a2)\n",
    "else:\n",
    "    add(a1,a2)"
   ]
  },
  {
   "cell_type": "code",
   "execution_count": 5,
   "metadata": {},
   "outputs": [
    {
     "name": "stdout",
     "output_type": "stream",
     "text": [
      "The sorted array is:\n",
      "1\n",
      "2\n",
      "3\n",
      "4\n",
      "5\n",
      "6\n",
      "7\n",
      "8\n",
      "9\n",
      "10\n"
     ]
    }
   ],
   "source": [
    "#Question 8\n",
    "#Write a bubble sort program with normal Python  for 10 floating point numbers\n",
    "def bubble(arr):\n",
    "    len1=len(arr)\n",
    "    for i in range(len1):\n",
    "        for j in range(0,len1-i-1):\n",
    "            if arr[j]>arr[j+1]:\n",
    "                arr[j],arr[j+1]=arr[j+1],arr[j]\n",
    "                #arr[j+1]=arr[j]\n",
    "\n",
    "arr=[2.0,1.0,3.0,4.0,5.0,6.0,7.0,8.0,9.0,10.0]\n",
    "bubble(arr)\n",
    "\n",
    "print(\"The sorted array is:\")\n",
    "for i in range(len(arr)):\n",
    "    print(\"%d\"%arr[i])"
   ]
  },
  {
   "cell_type": "code",
   "execution_count": 8,
   "metadata": {},
   "outputs": [
    {
     "name": "stdout",
     "output_type": "stream",
     "text": [
      "[[1 3 0]\n",
      " [0 1 1]\n",
      " [0 0 0]]\n"
     ]
    }
   ],
   "source": [
    "#Question 6.c\n",
    "#c) Make the values below the diagonal as 0.0 for A1\n",
    "\n",
    "a1[1][0]=0.0\n",
    "a1[2][0]=0.0\n",
    "a1[2][1]=0.0\n",
    "print(a1)"
   ]
  },
  {
   "cell_type": "code",
   "execution_count": 12,
   "metadata": {},
   "outputs": [
    {
     "name": "stdout",
     "output_type": "stream",
     "text": [
      "The common values are: [1 3]\n"
     ]
    }
   ],
   "source": [
    "#Question 6.e\n",
    "#What are the common values between A1 and A2\n",
    "\n",
    "print(\"The common values are:\",np.intersect1d(a1,a2))"
   ]
  },
  {
   "cell_type": "code",
   "execution_count": 14,
   "metadata": {},
   "outputs": [
    {
     "ename": "ValueError",
     "evalue": "object too deep for desired array",
     "output_type": "error",
     "traceback": [
      "\u001b[1;31m---------------------------------------------------------------------------\u001b[0m",
      "\u001b[1;31mValueError\u001b[0m                                Traceback (most recent call last)",
      "\u001b[1;32m<ipython-input-14-711f22830c59>\u001b[0m in \u001b[0;36m<module>\u001b[1;34m()\u001b[0m\n\u001b[1;32m----> 1\u001b[1;33m \u001b[0mcounts\u001b[0m \u001b[1;33m=\u001b[0m \u001b[0mnp\u001b[0m\u001b[1;33m.\u001b[0m\u001b[0mbincount\u001b[0m\u001b[1;33m(\u001b[0m\u001b[0ma1\u001b[0m\u001b[1;33m)\u001b[0m\u001b[1;33m\u001b[0m\u001b[0m\n\u001b[0m\u001b[0;32m      2\u001b[0m \u001b[0mprint\u001b[0m \u001b[1;33m(\u001b[0m\u001b[0mnp\u001b[0m\u001b[1;33m.\u001b[0m\u001b[0margmax\u001b[0m\u001b[1;33m(\u001b[0m\u001b[0mcounts\u001b[0m\u001b[1;33m)\u001b[0m\u001b[1;33m)\u001b[0m\u001b[1;33m\u001b[0m\u001b[0m\n",
      "\u001b[1;31mValueError\u001b[0m: object too deep for desired array"
     ]
    }
   ],
   "source": [
    "counts = np.bincount(a1)\n",
    "print (np.argmax(counts))"
   ]
  },
  {
   "cell_type": "code",
   "execution_count": null,
   "metadata": {
    "collapsed": true
   },
   "outputs": [],
   "source": []
  }
 ],
 "metadata": {
  "kernelspec": {
   "display_name": "Python 3",
   "language": "python",
   "name": "python3"
  },
  "language_info": {
   "codemirror_mode": {
    "name": "ipython",
    "version": 3
   },
   "file_extension": ".py",
   "mimetype": "text/x-python",
   "name": "python",
   "nbconvert_exporter": "python",
   "pygments_lexer": "ipython3",
   "version": "3.6.2"
  }
 },
 "nbformat": 4,
 "nbformat_minor": 2
}
