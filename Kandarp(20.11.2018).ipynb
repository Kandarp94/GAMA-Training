{
 "cells": [
  {
   "cell_type": "code",
   "execution_count": null,
   "metadata": {
    "collapsed": true
   },
   "outputs": [],
   "source": [
    "Q.1)Create a list of 10 members"
   ]
  },
  {
   "cell_type": "code",
   "execution_count": 1,
   "metadata": {},
   "outputs": [
    {
     "name": "stdout",
     "output_type": "stream",
     "text": [
      "['one', 'two', 'three', 'four', 'five', 'six', 'seven', 'eight', 'nine', 'ten']\n"
     ]
    }
   ],
   "source": [
    "list=[\"one\",\"two\",\"three\",\"four\",\"five\",\"six\",\"seven\",\"eight\",\"nine\",\"ten\"]\n",
    "print(list)\n"
   ]
  },
  {
   "cell_type": "code",
   "execution_count": null,
   "metadata": {
    "collapsed": true
   },
   "outputs": [],
   "source": [
    "Q.1.a)largest and second largest"
   ]
  },
  {
   "cell_type": "code",
   "execution_count": 4,
   "metadata": {
    "scrolled": true
   },
   "outputs": [
    {
     "name": "stdout",
     "output_type": "stream",
     "text": [
      "The largest element is:  67\n",
      "The  Second largest element is:  8\n"
     ]
    }
   ],
   "source": [
    "list=[1,3,5,67,8]\n",
    "list.sort()\n",
    "print(\"The largest element is: \",list[len(list)-1])\n",
    "print(\"The  Second largest element is: \",list[len(list)-2])"
   ]
  },
  {
   "cell_type": "markdown",
   "metadata": {},
   "source": [
    "Q.1.b)swap first and last element"
   ]
  },
  {
   "cell_type": "code",
   "execution_count": 7,
   "metadata": {},
   "outputs": [
    {
     "name": "stdout",
     "output_type": "stream",
     "text": [
      "The list after swapping the values are:  [8, 3, 5, 7, 1]\n"
     ]
    }
   ],
   "source": [
    "list=[1,3,5,7,8]\n",
    "temp=list[len(list)-1]\n",
    "list[len(list)-1]=list[0]\n",
    "list[0]=temp\n",
    "print(\"The list after swapping the values are: \",list)"
   ]
  },
  {
   "cell_type": "code",
   "execution_count": null,
   "metadata": {
    "collapsed": true
   },
   "outputs": [],
   "source": [
    "Q.2)create and merge two list"
   ]
  },
  {
   "cell_type": "code",
   "execution_count": 8,
   "metadata": {},
   "outputs": [
    {
     "name": "stdout",
     "output_type": "stream",
     "text": [
      "[0, 1, 2, 5, 8, 31, 34, 43, 67]\n"
     ]
    }
   ],
   "source": [
    "lis=[1,31,5,67,8]\n",
    "lis2=[34,43,2,0]\n",
    "lis3=lis+lis2\n",
    "lis3.sort()\n",
    "print(\"The list after sorting and merging are:\",lis3)"
   ]
  },
  {
   "cell_type": "code",
   "execution_count": null,
   "metadata": {
    "collapsed": true
   },
   "outputs": [],
   "source": [
    "Q.3)Find union and intersection of two list."
   ]
  },
  {
   "cell_type": "code",
   "execution_count": 10,
   "metadata": {},
   "outputs": [
    {
     "name": "stdout",
     "output_type": "stream",
     "text": [
      "values of intersectio are:  {8, 5}\n",
      "values after union are: [1, 31, 5, 67, 8, 34, 43, 5, 8]\n"
     ]
    }
   ],
   "source": [
    "lis=[1,31,5,67,8]\n",
    "lis2=[34,43,5,8]\n",
    "lis3=set(lis).intersection(lis2)\n",
    "print(\"values of intersectio are: \",lis3)\n",
    "print(\"values after union are:\",lis+lis2)"
   ]
  },
  {
   "cell_type": "code",
   "execution_count": null,
   "metadata": {
    "collapsed": true
   },
   "outputs": [],
   "source": [
    "Q.4.a)create a list and print 3 and 6 element"
   ]
  },
  {
   "cell_type": "code",
   "execution_count": 12,
   "metadata": {},
   "outputs": [
    {
     "name": "stdout",
     "output_type": "stream",
     "text": [
      "3 6\n"
     ]
    }
   ],
   "source": [
    "lis=[1,2,3,4,5,6,7,8,9]\n",
    "print(\"The 3rd and 6th elemnets are\",lis[2],lis[5])"
   ]
  },
  {
   "cell_type": "code",
   "execution_count": null,
   "metadata": {
    "collapsed": true
   },
   "outputs": [],
   "source": [
    "Q.4.b)first 5 elements"
   ]
  },
  {
   "cell_type": "code",
   "execution_count": 13,
   "metadata": {},
   "outputs": [
    {
     "name": "stdout",
     "output_type": "stream",
     "text": [
      "The first five elements are: [1, 2, 3, 4, 5]\n"
     ]
    }
   ],
   "source": [
    "print(\"The first five elements are:\",lis[:5])"
   ]
  },
  {
   "cell_type": "code",
   "execution_count": null,
   "metadata": {
    "collapsed": true
   },
   "outputs": [],
   "source": [
    "Q.4.c)elements 7 to end"
   ]
  },
  {
   "cell_type": "code",
   "execution_count": 15,
   "metadata": {},
   "outputs": [
    {
     "name": "stdout",
     "output_type": "stream",
     "text": [
      "The elements seven to end are: [8, 9]\n"
     ]
    }
   ],
   "source": [
    "print(\"The elements seven to end are:\",lis[7:])"
   ]
  },
  {
   "cell_type": "code",
   "execution_count": null,
   "metadata": {
    "collapsed": true
   },
   "outputs": [],
   "source": [
    "Q.4.d)change 2nd and 5th element"
   ]
  },
  {
   "cell_type": "code",
   "execution_count": 18,
   "metadata": {},
   "outputs": [
    {
     "name": "stdout",
     "output_type": "stream",
     "text": [
      "The list after changing the values are:  [1, 2, 'x', 4, 5, 'y', 7, 8, 9]\n"
     ]
    }
   ],
   "source": [
    "lis[2]=\"x\"\n",
    "lis[5]=\"y\"\n",
    "print(\"The list after changing the values are: \",lis)"
   ]
  },
  {
   "cell_type": "code",
   "execution_count": null,
   "metadata": {
    "collapsed": true
   },
   "outputs": [],
   "source": [
    "Q.4.e)delete 5th element"
   ]
  },
  {
   "cell_type": "code",
   "execution_count": 19,
   "metadata": {},
   "outputs": [
    {
     "name": "stdout",
     "output_type": "stream",
     "text": [
      "The list after deleting the 5th element is:  [1, 2, 'x', 4, 5, 7, 8, 9]\n"
     ]
    }
   ],
   "source": [
    "del lis[5]\n",
    "print(\"The list after deleting the 5th element is: \",lis)"
   ]
  },
  {
   "cell_type": "code",
   "execution_count": null,
   "metadata": {
    "collapsed": true
   },
   "outputs": [],
   "source": [
    "Q.4.b)count the number of elements of list"
   ]
  },
  {
   "cell_type": "code",
   "execution_count": 20,
   "metadata": {},
   "outputs": [
    {
     "name": "stdout",
     "output_type": "stream",
     "text": [
      "The length of list is: 8\n"
     ]
    }
   ],
   "source": [
    "print(\"The length of list is:\",len(lis))"
   ]
  },
  {
   "cell_type": "code",
   "execution_count": null,
   "metadata": {
    "collapsed": true
   },
   "outputs": [],
   "source": [
    "Q.5)Find the number of times a particular elements appear in the list"
   ]
  },
  {
   "cell_type": "code",
   "execution_count": 27,
   "metadata": {},
   "outputs": [
    {
     "name": "stdout",
     "output_type": "stream",
     "text": [
      "Enter the value to be searched2\n",
      "2\n",
      "The largest even number is: 8\n",
      "The largest odd number is: 9\n"
     ]
    }
   ],
   "source": [
    "lis=[1,2,3,2,3,6,7,8,9]\n",
    "ch=int(input(\"Enter the value to be searched\"))\n",
    "count=0\n",
    "for i in range(0,9):\n",
    "    if(lis[i]==ch):\n",
    "        count+=1\n",
    "print(count)\n",
    "lis.sort(reverse=True)\n",
    "for i in range (9):\n",
    "    if(lis[i]%2==0):\n",
    "        print(\"The largest even number is:\",lis[i])\n",
    "        break\n",
    "for i in range (9):\n",
    "    if(lis[i]%2!=0):\n",
    "        print(\"The largest odd number is:\",lis[i])\n",
    "        break"
   ]
  },
  {
   "cell_type": "code",
   "execution_count": null,
   "metadata": {
    "collapsed": true
   },
   "outputs": [],
   "source": [
    "Q.6)create a list of tuples "
   ]
  },
  {
   "cell_type": "code",
   "execution_count": 41,
   "metadata": {},
   "outputs": [
    {
     "name": "stdout",
     "output_type": "stream",
     "text": [
      "Enter the Lower Range:1\n",
      "Enter the Upper Range:6\n",
      "[(1, 1), (2, 4), (3, 9), (4, 16), (5, 25), (6, 36)]\n"
     ]
    }
   ],
   "source": [
    "a=int(input(\"Enter the Lower Range:\"))\n",
    "b=int(input(\"Enter the Upper Range:\"))\n",
    "c=[(x,x**2) for x in range (a,b+1) ]\n",
    "print(c)"
   ]
  },
  {
   "cell_type": "code",
   "execution_count": null,
   "metadata": {
    "collapsed": true
   },
   "outputs": [],
   "source": [
    "Q.7)add random number in list"
   ]
  },
  {
   "cell_type": "code",
   "execution_count": 38,
   "metadata": {},
   "outputs": [
    {
     "name": "stdout",
     "output_type": "stream",
     "text": [
      "[6, 18, 16, 7, 10, 18, 19, 12, 17, 16]\n"
     ]
    }
   ],
   "source": [
    "import random\n",
    "#lis=[1,2,3,2,3,6,7,8,9]\n",
    "lis=[]\n",
    "for i in range (10):\n",
    "        lis.append(random.randint(1,20))\n",
    "print(lis)"
   ]
  },
  {
   "cell_type": "code",
   "execution_count": null,
   "metadata": {
    "collapsed": true
   },
   "outputs": [],
   "source": [
    "Q.8)Solve the pol"
   ]
  },
  {
   "cell_type": "code",
   "execution_count": 42,
   "metadata": {},
   "outputs": [
    {
     "name": "stdout",
     "output_type": "stream",
     "text": [
      "Enter the coefficients of the form ax^3 + bx^2 + cx + d\n",
      "Enter coefficient:3\n",
      "Enter coefficient:6\n",
      "Enter coefficient:5\n",
      "Enter coefficient:2\n",
      "Enter the value of x:2\n",
      "The value of the polynomial is: 60.0\n"
     ]
    }
   ],
   "source": [
    "import math\n",
    "lst=[]\n",
    "for i in range(0,4):\n",
    "    a=int(input(\"Enter coefficient:\"))\n",
    "    lst.append(a)\n",
    "x=int(input(\"Enter the value of x:\"))\n",
    "sum1=0\n",
    "j=3\n",
    "for i in range(0,3):\n",
    "    while(j>0):\n",
    "        sum1=sum1+(lst[i]*math.pow(x,j))\n",
    "        break\n",
    "    j=j-1\n",
    "sum1=sum1+lst[3]\n",
    "print(\"The value of the polynomial is:\",sum1)"
   ]
  },
  {
   "cell_type": "code",
   "execution_count": null,
   "metadata": {
    "collapsed": true
   },
   "outputs": [],
   "source": [
    "Q.9)All numbers in a range is perfect square"
   ]
  },
  {
   "cell_type": "code",
   "execution_count": 83,
   "metadata": {},
   "outputs": [
    {
     "name": "stdout",
     "output_type": "stream",
     "text": [
      "Enter the lower range4\n",
      "Enter the upper range100\n",
      "4\n",
      "9\n",
      "16\n",
      "25\n",
      "36\n",
      "81\n",
      "100\n"
     ]
    }
   ],
   "source": [
    "import math\n",
    "#res=0\n",
    "sq=0\n",
    "#sm=0\n",
    "def digit_sum(x):\n",
    "    sm=0\n",
    "    res=0\n",
    "    while(x>0):\n",
    "            res=x%10\n",
    "            sm=sm+res\n",
    "            x=x//10\n",
    "    return sm\n",
    "            \n",
    "a=int(input(\"Enter the lower range\"))\n",
    "b=int(input(\"Enter the upper range\"))\n",
    "for i in range(a,b+1):\n",
    "\n",
    "    sq = math.sqrt(i)\n",
    "    if((sq-(math.floor(sq)))==0 and (digit_sum(i)<10)):\n",
    "        print(i)\n",
    "        "
   ]
  },
  {
   "cell_type": "code",
   "execution_count": null,
   "metadata": {
    "collapsed": true
   },
   "outputs": [],
   "source": [
    "Q.10)find cumulative sum"
   ]
  },
  {
   "cell_type": "code",
   "execution_count": 3,
   "metadata": {},
   "outputs": [
    {
     "name": "stdout",
     "output_type": "stream",
     "text": [
      "1 2 3 \n",
      "[1, 3, 6]\n"
     ]
    }
   ],
   "source": [
    "lis=[int(x) for x in input().split()]\n",
    "lis1 = [] \n",
    "le = len(lis)\n",
    "for x in range(0,le):\n",
    "    lis1 = [sum(lis[0:x+1]) for x in range(0, le)]\n",
    "print(lis1)"
   ]
  }
 ],
 "metadata": {
  "kernelspec": {
   "display_name": "Python 3",
   "language": "python",
   "name": "python3"
  },
  "language_info": {
   "codemirror_mode": {
    "name": "ipython",
    "version": 3
   },
   "file_extension": ".py",
   "mimetype": "text/x-python",
   "name": "python",
   "nbconvert_exporter": "python",
   "pygments_lexer": "ipython3",
   "version": "3.6.2"
  }
 },
 "nbformat": 4,
 "nbformat_minor": 2
}
