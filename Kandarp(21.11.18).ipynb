{
 "cells": [
  {
   "cell_type": "code",
   "execution_count": 13,
   "metadata": {},
   "outputs": [
    {
     "name": "stdout",
     "output_type": "stream",
     "text": [
      "Enter the string: kandarp\n",
      "2\n"
     ]
    }
   ],
   "source": [
    "#Question 1\n",
    "#count number of vowels in string\n",
    "\n",
    "vow={'a','e','i','o','u'}\n",
    "ch=input(\"Enter the string: \")\n",
    "count=0\n",
    "le=len(ch)\n",
    "#print(le)\n",
    "for x in vow:\n",
    "    for y in range(le):\n",
    "        if x in ch[y]:\n",
    "            #print(\"hii\")\n",
    "            count=count+1\n",
    "\n",
    "print(count)\n"
   ]
  },
  {
   "cell_type": "raw",
   "metadata": {},
   "source": []
  },
  {
   "cell_type": "code",
   "execution_count": 28,
   "metadata": {},
   "outputs": [
    {
     "name": "stdout",
     "output_type": "stream",
     "text": [
      "Enter the name: kandarp\n",
      "Enter the name: sharmaq\n",
      "{'r', 'a'}\n"
     ]
    }
   ],
   "source": [
    "#Question 2\n",
    "#Print the common letter in both the strings\n",
    "\n",
    "name1=input(\"Enter the name: \")\n",
    "name2=input(\"Enter the name: \")\n",
    "com=[]\n",
    "j=0\n",
    "for i in range (len(name1)):\n",
    "    for j in range (len(name2)):\n",
    "        if(name1[i]==name2[j]):\n",
    "             #print(\"hii\")\n",
    "            com.append(name1[i])\n",
    "       \n",
    "print(set(com))"
   ]
  },
  {
   "cell_type": "code",
   "execution_count": 2,
   "metadata": {},
   "outputs": [
    {
     "name": "stdout",
     "output_type": "stream",
     "text": [
      "Enter the name: kandarp\n",
      "Enter the name: sharma1\n",
      "{'d', 'n', 'r', 'p', 'a', 'k'}\n"
     ]
    }
   ],
   "source": [
    "name1=input(\"Enter the name: \")\n",
    "name2=input(\"Enter the name: \")\n",
    "com=[]\n",
    "j=0\n",
    "for i in range (len(name1)):\n",
    "    for j in range (len(name2)):\n",
    "        if(name1[i]!=name2[j]):\n",
    "             #print(\"hii\")\n",
    "            com.append(name1[i])\n",
    "        \n",
    "print(set(com))"
   ]
  },
  {
   "cell_type": "raw",
   "metadata": {},
   "source": []
  },
  {
   "cell_type": "code",
   "execution_count": 2,
   "metadata": {},
   "outputs": [
    {
     "name": "stdout",
     "output_type": "stream",
     "text": [
      "Enter the name: kandarp\n",
      "Enter the name: sharmaq\n",
      "{'q', 'm', 'h', 's'}\n"
     ]
    }
   ],
   "source": [
    "name1=input(\"Enter the name: \")\n",
    "name2=input(\"Enter the name: \")\n",
    "s1=set(name1)\n",
    "s2=set(name2)\n",
    "a=s1.intersection(s2)\n",
    "b=s2.union(s2)\n",
    "c=b-a\n",
    "print(c)"
   ]
  },
  {
   "cell_type": "code",
   "execution_count": null,
   "metadata": {
    "collapsed": true
   },
   "outputs": [],
   "source": []
  }
 ],
 "metadata": {
  "kernelspec": {
   "display_name": "Python 3",
   "language": "python",
   "name": "python3"
  },
  "language_info": {
   "codemirror_mode": {
    "name": "ipython",
    "version": 3
   },
   "file_extension": ".py",
   "mimetype": "text/x-python",
   "name": "python",
   "nbconvert_exporter": "python",
   "pygments_lexer": "ipython3",
   "version": "3.6.2"
  }
 },
 "nbformat": 4,
 "nbformat_minor": 2
}
