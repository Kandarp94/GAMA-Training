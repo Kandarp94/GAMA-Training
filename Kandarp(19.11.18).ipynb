{
 "cells": [
  {
   "cell_type": "code",
   "execution_count": null,
   "metadata": {
    "collapsed": true
   },
   "outputs": [],
   "source": [
    "Q.1) print the sum of n numbers."
   ]
  },
  {
   "cell_type": "code",
   "execution_count": 9,
   "metadata": {},
   "outputs": [
    {
     "name": "stdout",
     "output_type": "stream",
     "text": [
      "Enter the number: 3\n",
      "Enter the number: 1\n",
      "Enter the number: 2\n",
      "Enter the number: 3\n",
      "The total is:  6\n"
     ]
    }
   ],
   "source": [
    "#print (\"Enter the number\")\n",
    "n=int(input(\"Enter the number: \"))\n",
    "sum=0\n",
    "for i in range(n):\n",
    "    n1=int(input(\"Enter the number: \"))\n",
    "    sum+=n1\n",
    "print(\"The total is: \",sum)"
   ]
  },
  {
   "cell_type": "code",
   "execution_count": null,
   "metadata": {
    "collapsed": true
   },
   "outputs": [],
   "source": [
    "Q.2) whether the number is prime or not"
   ]
  },
  {
   "cell_type": "code",
   "execution_count": 15,
   "metadata": {},
   "outputs": [
    {
     "name": "stdout",
     "output_type": "stream",
     "text": [
      "Enter the number: 7\n",
      "Number is Prime\n"
     ]
    }
   ],
   "source": [
    "n=int(input(\"Enter the number: \"))\n",
    "flag=0\n",
    "n1=n//2\n",
    "for i in range(2,n1):\n",
    "    if(n%i==0):\n",
    "        print(\"Number is not prime\")\n",
    "        flag=1\n",
    "        break\n",
    "if(flag==0):\n",
    "    print(\"Number is Prime\")"
   ]
  },
  {
   "cell_type": "code",
   "execution_count": null,
   "metadata": {
    "collapsed": true
   },
   "outputs": [],
   "source": [
    "Q.3) Calculate the area of a Triangle."
   ]
  },
  {
   "cell_type": "code",
   "execution_count": 18,
   "metadata": {
    "scrolled": true
   },
   "outputs": [
    {
     "name": "stdout",
     "output_type": "stream",
     "text": [
      "Enter the value of base of the Triangle: 6\n",
      "Enter the value of height of the Triangle: 4\n",
      "The area of the triangle with base 6 and height 4 is 12. \n"
     ]
    }
   ],
   "source": [
    "base=int(input(\"Enter the value of base of the Triangle: \"))\n",
    "height=int(input(\"Enter the value of height of the Triangle: \"))\n",
    "area=(base*height)/2\n",
    "print(\"The area of the triangle with base %d and height %d is %d. \"%(base,height,area))"
   ]
  },
  {
   "cell_type": "code",
   "execution_count": null,
   "metadata": {
    "collapsed": true
   },
   "outputs": [],
   "source": [
    "Q.4) Swap two variables."
   ]
  },
  {
   "cell_type": "code",
   "execution_count": 19,
   "metadata": {},
   "outputs": [
    {
     "name": "stdout",
     "output_type": "stream",
     "text": [
      "Enter the First number5\n",
      "Enter the second number6\n",
      "The numbers after swapping are: 6 5\n"
     ]
    }
   ],
   "source": [
    "n1=int(input(\"Enter the First number\"))\n",
    "n2=int(input(\"Enter the second number\"))\n",
    "temp=n1\n",
    "n1=n2\n",
    "n2=temp\n",
    "print(\"The numbers after swapping are: %d %d\"%(n1,n2))"
   ]
  },
  {
   "cell_type": "code",
   "execution_count": null,
   "metadata": {
    "collapsed": true
   },
   "outputs": [],
   "source": [
    "Q.5) Solve quadtratic equation"
   ]
  },
  {
   "cell_type": "code",
   "execution_count": 25,
   "metadata": {},
   "outputs": [
    {
     "name": "stdout",
     "output_type": "stream",
     "text": [
      "Enter the coefficent of a: 2\n",
      "Enter the coefficent of b: 8\n",
      "Enter the coefficent of c: 3\n",
      "Solution to the Quadratic Equation are 0,-3\n"
     ]
    }
   ],
   "source": [
    "import math\n",
    "a=int(input(\"Enter the coefficent of a: \"))\n",
    "b=int(input(\"Enter the coefficent of b: \"))\n",
    "c=int(input(\"Enter the coefficent of c: \"))\n",
    "\n",
    "d=(b*b)-(4*a*c)\n",
    "#d1=math.sqrt()\n",
    "ans1=(-b+math.sqrt(d))/(2*a)\n",
    "ans2=(-b-math.sqrt(d))/(2*a)\n",
    "print(\"Solutions to the Quadratic Equation are %d,%d\"%(ans1,ans2))"
   ]
  },
  {
   "cell_type": "code",
   "execution_count": null,
   "metadata": {
    "collapsed": true
   },
   "outputs": [],
   "source": [
    "Q.6)Check the leap year"
   ]
  },
  {
   "cell_type": "code",
   "execution_count": 29,
   "metadata": {},
   "outputs": [
    {
     "name": "stdout",
     "output_type": "stream",
     "text": [
      "Enter the Year: 2001\n",
      "Not a Leap Year\n"
     ]
    }
   ],
   "source": [
    "y=int(input(\"Enter the Year: \"))\n",
    "if((y%400==0) or ((y%4==0) and (y%100!=0))):\n",
    "    print(\"Leap Year\")\n",
    "else:\n",
    "    print(\"Not a Leap Year\")"
   ]
  },
  {
   "cell_type": "code",
   "execution_count": null,
   "metadata": {
    "collapsed": true
   },
   "outputs": [],
   "source": [
    "Q.7)Simple calculator"
   ]
  },
  {
   "cell_type": "code",
   "execution_count": 6,
   "metadata": {},
   "outputs": [
    {
     "name": "stdout",
     "output_type": "stream",
     "text": [
      "Enter the First number4\n",
      "Enter the Second number5\n",
      "1.Addition 2.Substraction 3.Multiplication 4.Division\n",
      "Enter your Choice1\n",
      "The answer is 9\n"
     ]
    }
   ],
   "source": [
    "n1=int(input(\"Enter the First number\"))\n",
    "n2=int(input(\"Enter the Second number\"))\n",
    "\n",
    "def add(n1,n2):\n",
    "    res=n1+n2\n",
    "    print(\"The answer is\",res)\n",
    "\n",
    "def sub(n1,n2):\n",
    "    res=n1-n2\n",
    "    print(\"The answer is\",res)\n",
    "    \n",
    "def mul(n1,n2):\n",
    "    res=n1*n2\n",
    "    print(\"The answer is\",res)\n",
    "    \n",
    "def div(n1,n2):\n",
    "    res=n1/n2\n",
    "    print(\"The answer is\",res)\n",
    "    \n",
    "print(\"1.Addition 2.Substraction 3.Multiplication 4.Division\")\n",
    "ch=int(input(\"Enter your Choice\"))\n",
    "if(ch==1):\n",
    "    add(n1,n2)\n",
    "elif(ch==2):\n",
    "    sub(n1,n2)\n",
    "elif(ch==3):\n",
    "    mul(n1,n2)\n",
    "else:\n",
    "    div(n1,n2)"
   ]
  },
  {
   "cell_type": "code",
   "execution_count": null,
   "metadata": {
    "collapsed": true
   },
   "outputs": [],
   "source": [
    "Q.8)To check whether the given number is positive, negative or zero"
   ]
  },
  {
   "cell_type": "code",
   "execution_count": 27,
   "metadata": {},
   "outputs": [
    {
     "name": "stdout",
     "output_type": "stream",
     "text": [
      "Enter the number: 0\n",
      "Number is zero\n"
     ]
    }
   ],
   "source": [
    "n=int(input(\"Enter the number: \"))\n",
    "if(n<0):\n",
    "    print(\"Number is Negative\")\n",
    "elif(n>0):\n",
    "    print(\"Number is Positive\")\n",
    "else:\n",
    "    print(\"Number is zero\")"
   ]
  },
  {
   "cell_type": "code",
   "execution_count": null,
   "metadata": {
    "collapsed": true
   },
   "outputs": [],
   "source": [
    "Q.9)Check whether the number is odd or even"
   ]
  },
  {
   "cell_type": "code",
   "execution_count": 31,
   "metadata": {},
   "outputs": [
    {
     "name": "stdout",
     "output_type": "stream",
     "text": [
      "Enter the number: 7\n",
      "Number is odd\n"
     ]
    }
   ],
   "source": [
    "n=int(input(\"Enter the number: \"))\n",
    "if(n%2==0):\n",
    "    print(\"Number is even\")\n",
    "else:\n",
    "    print(\"Number is odd\")"
   ]
  },
  {
   "cell_type": "code",
   "execution_count": null,
   "metadata": {
    "collapsed": true
   },
   "outputs": [],
   "source": [
    "Q.10)Find factorial of the number."
   ]
  },
  {
   "cell_type": "code",
   "execution_count": 32,
   "metadata": {},
   "outputs": [
    {
     "name": "stdout",
     "output_type": "stream",
     "text": [
      "Enter the number: 5\n",
      "The factorial is 120\n"
     ]
    }
   ],
   "source": [
    "n=int(input(\"Enter the number: \"))\n",
    "fact=1\n",
    "for i in range(n,1,-1):\n",
    "    fact*=i\n",
    "print(\"The factorial is %d\"%(fact))\n"
   ]
  },
  {
   "cell_type": "code",
   "execution_count": null,
   "metadata": {
    "collapsed": true
   },
   "outputs": [],
   "source": [
    "Q.11)To print the multiplication table"
   ]
  },
  {
   "cell_type": "code",
   "execution_count": 36,
   "metadata": {
    "scrolled": true
   },
   "outputs": [
    {
     "name": "stdout",
     "output_type": "stream",
     "text": [
      "Enter the number: 12\n",
      "12 * 1 = 12\n",
      "12 * 2 = 24\n",
      "12 * 3 = 36\n",
      "12 * 4 = 48\n",
      "12 * 5 = 60\n",
      "12 * 6 = 72\n",
      "12 * 7 = 84\n",
      "12 * 8 = 96\n",
      "12 * 9 = 108\n",
      "12 * 10 = 120\n"
     ]
    }
   ],
   "source": [
    "n=int(input(\"Enter the number: \"))\n",
    "for i in range(1,11):\n",
    "    res=n*i\n",
    "    print(\"%d * %d = %d\"%(n,i,res))"
   ]
  },
  {
   "cell_type": "code",
   "execution_count": null,
   "metadata": {
    "collapsed": true
   },
   "outputs": [],
   "source": [
    "Q.12)Print Fibonacci series"
   ]
  },
  {
   "cell_type": "code",
   "execution_count": 41,
   "metadata": {},
   "outputs": [
    {
     "name": "stdout",
     "output_type": "stream",
     "text": [
      "Enter the number of terms: 10\n",
      "0,1, 1, 1, 2, 3, 5, 8, 13, 21, 34, "
     ]
    }
   ],
   "source": [
    "n=int(input(\"Enter the number of terms: \"))\n",
    "x=0\n",
    "y=1\n",
    "print(\"0,1,\",end=\" \")\n",
    "for i in range(1,n):\n",
    "    print(\"%d,\"%(y),end=\" \")\n",
    "    sum=x+y\n",
    "    x=y\n",
    "    y=sum\n",
    "    "
   ]
  },
  {
   "cell_type": "code",
   "execution_count": null,
   "metadata": {
    "collapsed": true
   },
   "outputs": [],
   "source": [
    "Q.13)Find largest and the smallest"
   ]
  },
  {
   "cell_type": "code",
   "execution_count": 46,
   "metadata": {},
   "outputs": [
    {
     "name": "stdout",
     "output_type": "stream",
     "text": [
      "Enter the First number: 5\n",
      "Enter the Second number: 6\n",
      "Enter the Third number: 7\n",
      "The largest numbers is 7\n",
      "The Smallest numbers is 5\n"
     ]
    }
   ],
   "source": [
    "a=int(input(\"Enter the First number: \"))\n",
    "b=int(input(\"Enter the Second number: \"))\n",
    "c=int(input(\"Enter the Third number: \"))\n",
    "if((a>b) and (a>c)):\n",
    "    print(\"The largest numbers is %d\"%(a))\n",
    "elif((b>c) and (b>a)):\n",
    "    print(\"The largest numbers is %d\"%(b))\n",
    "else:\n",
    "    print(\"The largest numbers is %d\"%(c))\n",
    "if((a<b) and (a<c)):\n",
    "    print(\"The Smallest numbers is %d\"%(a))\n",
    "elif((b<c) and (b<a)):\n",
    "    print(\"The Smallest numbers is %d\"%(b))\n",
    "else:\n",
    "    print(\"The Smallest numbers is %d\"%(c))"
   ]
  },
  {
   "cell_type": "code",
   "execution_count": null,
   "metadata": {
    "collapsed": true
   },
   "outputs": [],
   "source": [
    "Q.14.a)Km to miles and vice versa"
   ]
  },
  {
   "cell_type": "code",
   "execution_count": 2,
   "metadata": {},
   "outputs": [
    {
     "name": "stdout",
     "output_type": "stream",
     "text": [
      "Enter the value5\n",
      "1.Km to Mile\n",
      "2.Mile to Km\n",
      "Enter your choice1\n",
      "The converted value in mile is 3\n"
     ]
    }
   ],
   "source": [
    "n=int(input(\"Enter the value\"))\n",
    "def km_to_mile(km):\n",
    "    res=km*.62\n",
    "    print(\"The converted value in mile is %d\"%(res))\n",
    "\n",
    "def mile_to_km(mile):\n",
    "    res=mile/.62\n",
    "    print(\"The converted value in mile is %d\"%(res))\n",
    "\n",
    "\n",
    "print(\"1.Km to Mile\")\n",
    "print(\"2.Mile to Km\")\n",
    "ch=int(input(\"Enter your choice\"))\n",
    "if(ch==1):\n",
    "   # n= float(input(\"Enter the value in km\"))\n",
    "    km_to_mile(n)\n",
    "else:\n",
    "  #  n= float(input(\"Enter the value in mile\"))\n",
    "    mile_to_km(n)"
   ]
  },
  {
   "cell_type": "code",
   "execution_count": null,
   "metadata": {
    "collapsed": true
   },
   "outputs": [],
   "source": [
    "Q.14.b)Celcius to farenheit and vice versa"
   ]
  },
  {
   "cell_type": "code",
   "execution_count": 3,
   "metadata": {},
   "outputs": [
    {
     "name": "stdout",
     "output_type": "stream",
     "text": [
      "Enter the value5\n",
      "1.Celcius to farenheit\n",
      "2.Farenheit to celcius\n",
      "Enter your choice1\n",
      "The converted value in fahreneit is 41\n"
     ]
    }
   ],
   "source": [
    "n=int(input(\"Enter the value\"))\n",
    "def c_to_f(c):\n",
    "    res=c*(9/5)+32\n",
    "    print(\"The converted value in fahreneit is %d\"%(res))\n",
    "\n",
    "def f_to_c(f):\n",
    "    res=(f-32)*5/9\n",
    "    print(\"The converted value in celcius is %d\"%(res))\n",
    "\n",
    "\n",
    "print(\"1.Celcius to farenheit\")\n",
    "print(\"2.Farenheit to celcius\")\n",
    "ch=int(input(\"Enter your choice\"))\n",
    "if(ch==1):\n",
    "    c_to_f(n)\n",
    "else:\n",
    "    f_to_C(n)"
   ]
  },
  {
   "cell_type": "code",
   "execution_count": null,
   "metadata": {
    "collapsed": true
   },
   "outputs": [],
   "source": [
    "Q.14.c)Decimal to Binary"
   ]
  },
  {
   "cell_type": "code",
   "execution_count": 5,
   "metadata": {},
   "outputs": [
    {
     "name": "stdout",
     "output_type": "stream",
     "text": [
      "Enter the value2\n",
      "1.decimal to binary\n",
      "2.ocatl to hexadecimal\n",
      "Enter your choice1\n",
      "The converted value in binary is %d 0b10\n"
     ]
    }
   ],
   "source": [
    "n=int(input(\"Enter the value\"))\n",
    "def dec_to_bin(d):\n",
    "    print(\"The converted value in binary is\",bin(d))\n",
    "\n",
    "def oct_to_hex(o):\n",
    "    print(\"The converted value in hexadecimal is\",hex(o))\n",
    "\n",
    "\n",
    "print(\"1.decimal to binary\")\n",
    "print(\"2.ocatl to hexadecimal\")\n",
    "ch=int(input(\"Enter your choice\"))\n",
    "if(ch==1):\n",
    "    dec_to_bin(n)\n",
    "else:\n",
    "    oct_to_hex(n)"
   ]
  },
  {
   "cell_type": "code",
   "execution_count": null,
   "metadata": {
    "collapsed": true
   },
   "outputs": [],
   "source": []
  }
 ],
 "metadata": {
  "kernelspec": {
   "display_name": "Python 3",
   "language": "python",
   "name": "python3"
  }
 },
 "nbformat": 4,
 "nbformat_minor": 2
}
