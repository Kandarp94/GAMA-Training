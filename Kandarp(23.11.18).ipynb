{
 "cells": [
  {
   "cell_type": "code",
   "execution_count": 63,
   "metadata": {},
   "outputs": [
    {
     "name": "stdout",
     "output_type": "stream",
     "text": [
      "Index(['User_ID', 'Product_ID', 'Gender', 'Age', 'Occupation', 'City_Category',\n",
      "       'Stay_In_Current_City_Years', 'Marital_Status', 'Product_Category_1',\n",
      "       'Product_Category_2', 'Product_Category_3', 'Purchase'],\n",
      "      dtype='object')\n"
     ]
    }
   ],
   "source": [
    "#Question 1\n",
    "#Get the columns or features of  of the Dataset\n",
    "\n",
    "import pandas as pd\n",
    "train=pd.read_csv(\"C:/Users/User/Downloads/BlackFriday.csv\")\n",
    "#data=pd.Series(train.columns)\n",
    "print(train.columns)\n",
    "\n",
    "\n",
    "    "
   ]
  },
  {
   "cell_type": "code",
   "execution_count": 71,
   "metadata": {},
   "outputs": [
    {
     "name": "stdout",
     "output_type": "stream",
     "text": [
      "The number of datasets in the file is: 537577\n"
     ]
    }
   ],
   "source": [
    "#Question 2\n",
    "#How many observations are there in the dataset\n",
    "\n",
    "data=train.count()\n",
    "print(\"The number of datasets in the file is:\",data[0])"
   ]
  },
  {
   "cell_type": "code",
   "execution_count": 76,
   "metadata": {},
   "outputs": [
    {
     "data": {
      "text/plain": [
       "User_ID                            0\n",
       "Product_ID                         0\n",
       "Gender                             0\n",
       "Age                                0\n",
       "Occupation                         0\n",
       "City_Category                      0\n",
       "Stay_In_Current_City_Years         0\n",
       "Marital_Status                     0\n",
       "Product_Category_1                 0\n",
       "Product_Category_2            166986\n",
       "Product_Category_3            373299\n",
       "Purchase                           0\n",
       "dtype: int64"
      ]
     },
     "execution_count": 76,
     "metadata": {},
     "output_type": "execute_result"
    }
   ],
   "source": [
    "#Question 3\n",
    "#What are the missing values ? How many for each category?\n",
    "\n",
    "train.isnull().sum()"
   ]
  },
  {
   "cell_type": "code",
   "execution_count": 77,
   "metadata": {},
   "outputs": [
    {
     "name": "stdout",
     "output_type": "stream",
     "text": [
      "Number of unique user id: 5891\n",
      "Number of unique product id is: 3623\n"
     ]
    }
   ],
   "source": [
    "#Question 4\n",
    "#How many unique values for UserId and Product Id\n",
    "\n",
    "a=train.User_ID.unique()\n",
    "print(\"Number of unique user id:\",len(a))\n",
    "b=train.Product_ID.unique()\n",
    "print(\"Number of unique product id is:\",len(b))\n"
   ]
  },
  {
   "cell_type": "code",
   "execution_count": 78,
   "metadata": {},
   "outputs": [
    {
     "name": "stdout",
     "output_type": "stream",
     "text": [
      "The number of male in the dataset are: 405380\n",
      "The number of female in the dataset are: 132197\n"
     ]
    }
   ],
   "source": [
    "#Question 5\n",
    "#How many males and females in the data set?\n",
    "\n",
    "male=train[\"Gender\"].isin([\"M\"]).sum()\n",
    "print(\"The number of male in the dataset are:\",male)\n",
    "female=train[\"Gender\"].isin([\"F\"]).sum()\n",
    "print(\"The number of female in the dataset are:\",female)\n"
   ]
  },
  {
   "cell_type": "code",
   "execution_count": null,
   "metadata": {
    "collapsed": true
   },
   "outputs": [],
   "source": []
  }
 ],
 "metadata": {
  "kernelspec": {
   "display_name": "Python 3",
   "language": "python",
   "name": "python3"
  },
  "language_info": {
   "codemirror_mode": {
    "name": "ipython",
    "version": 3
   },
   "file_extension": ".py",
   "mimetype": "text/x-python",
   "name": "python",
   "nbconvert_exporter": "python",
   "pygments_lexer": "ipython3",
   "version": "3.6.2"
  }
 },
 "nbformat": 4,
 "nbformat_minor": 2
}
