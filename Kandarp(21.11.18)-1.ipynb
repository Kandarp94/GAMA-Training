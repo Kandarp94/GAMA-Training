{
 "cells": [
  {
   "cell_type": "code",
   "execution_count": 17,
   "metadata": {},
   "outputs": [
    {
     "name": "stdout",
     "output_type": "stream",
     "text": [
      "File not present\n"
     ]
    }
   ],
   "source": [
    "#Write a python program to handle the following exceptions\n",
    "#IO error\n",
    "\n",
    "try:\n",
    "    fo=open(\"qwi.txt\",\"r\")\n",
    "except:\n",
    "    print(\"File not present\")\n"
   ]
  },
  {
   "cell_type": "code",
   "execution_count": 15,
   "metadata": {},
   "outputs": [
    {
     "name": "stdout",
     "output_type": "stream",
     "text": [
      "Value Error\n"
     ]
    }
   ],
   "source": [
    "#Value error\n",
    "\n",
    "try:\n",
    "    x=int(\"cat\")\n",
    "except:\n",
    "    print(\"Value Error\")"
   ]
  },
  {
   "cell_type": "code",
   "execution_count": 1,
   "metadata": {},
   "outputs": [
    {
     "name": "stdout",
     "output_type": "stream",
     "text": [
      "Import Error\n"
     ]
    }
   ],
   "source": [
    "#Import error\n",
    "\n",
    "#import kandarp\n",
    "try:\n",
    "    print(kandarp.hii)\n",
    "except:\n",
    "    print(\"Import Error\")\n",
    "    "
   ]
  },
  {
   "cell_type": "code",
   "execution_count": null,
   "metadata": {},
   "outputs": [],
   "source": [
    "#Overflow error\n",
    "\n",
    "import sys\n",
    "try:\n",
    "    a=int(sys.maxsize**500000)\n",
    "    print(a)\n",
    "except:\n",
    "    print(\"Overflow error\")"
   ]
  },
  {
   "cell_type": "code",
   "execution_count": 2,
   "metadata": {},
   "outputs": [
    {
     "name": "stdout",
     "output_type": "stream",
     "text": [
      "Zero division error\n"
     ]
    }
   ],
   "source": [
    "#Zero division error\n",
    "\n",
    "try:\n",
    "    a=10/0\n",
    "except:\n",
    "    print(\"Zero division error\")"
   ]
  },
  {
   "cell_type": "code",
   "execution_count": 4,
   "metadata": {},
   "outputs": [
    {
     "name": "stdout",
     "output_type": "stream",
     "text": [
      "Floating point error\n"
     ]
    }
   ],
   "source": [
    "#Floating point error\n",
    "\n",
    "try:\n",
    "    a=10/0.0\n",
    "except:\n",
    "    print(\"Floating point error\")"
   ]
  },
  {
   "cell_type": "code",
   "execution_count": 5,
   "metadata": {},
   "outputs": [
    {
     "name": "stdout",
     "output_type": "stream",
     "text": [
      "Name error\n"
     ]
    }
   ],
   "source": [
    "#Name error\n",
    "\n",
    "try:\n",
    "    de(10)\n",
    "except:\n",
    "    print(\"Name error\")"
   ]
  },
  {
   "cell_type": "code",
   "execution_count": 6,
   "metadata": {},
   "outputs": [
    {
     "name": "stdout",
     "output_type": "stream",
     "text": [
      "index error\n"
     ]
    }
   ],
   "source": [
    "#Index error\n",
    "\n",
    "try:\n",
    "    li=[1,2,3,4]\n",
    "    a=li[5]\n",
    "except:\n",
    "    print(\"index error\")"
   ]
  },
  {
   "cell_type": "code",
   "execution_count": null,
   "metadata": {
    "collapsed": true
   },
   "outputs": [],
   "source": []
  }
 ],
 "metadata": {
  "kernelspec": {
   "display_name": "Python 3",
   "language": "python",
   "name": "python3"
  },
  "language_info": {
   "codemirror_mode": {
    "name": "ipython",
    "version": 3
   },
   "file_extension": ".py",
   "mimetype": "text/x-python",
   "name": "python",
   "nbconvert_exporter": "python",
   "pygments_lexer": "ipython3",
   "version": "3.6.2"
  }
 },
 "nbformat": 4,
 "nbformat_minor": 2
}
